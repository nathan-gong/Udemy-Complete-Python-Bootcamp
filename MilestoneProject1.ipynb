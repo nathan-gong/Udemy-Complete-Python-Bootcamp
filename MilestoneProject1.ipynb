{
 "cells": [
  {
   "cell_type": "code",
   "execution_count": null,
   "metadata": {},
   "outputs": [],
   "source": [
    "from IPython.display import clear_output\n",
    "\n",
    "def display_board(board):\n",
    "    '''\n",
    "    OUTPUT = Displays game board\n",
    "    '''\n",
    "    clear_output()\n",
    "    print(board[7] + ' | ' + board[8] + ' | ' + board[9])\n",
    "    print('--|---|--')\n",
    "    print(board[4] + ' | ' + board[5] + ' | ' + board[6])\n",
    "    print('--|---|--')\n",
    "    print(board[1] + ' | ' + board[2] + ' | ' + board[3])"
   ]
  },
  {
   "cell_type": "code",
   "execution_count": null,
   "metadata": {},
   "outputs": [],
   "source": [
    "#TEST: Display test board\n",
    "test_board = ['#','X','O','X','O','X','O','X','O','X']\n",
    "display_board(test_board)"
   ]
  },
  {
   "cell_type": "code",
   "execution_count": null,
   "metadata": {},
   "outputs": [],
   "source": [
    "def player_input():\n",
    "    '''\n",
    "    INPUT = Markers from two players\n",
    "    OUTPUT = Tuple of markers\n",
    "    '''\n",
    "    marker = ''\n",
    "    \n",
    "    while not (marker == 'X' or marker == 'O'):\n",
    "        marker = input('Player 1: Choose X or O: ').upper()\n",
    "    \n",
    "    if marker == 'X':\n",
    "        return ('X','O')\n",
    "    else:\n",
    "        return ('O','X')"
   ]
  },
  {
   "cell_type": "code",
   "execution_count": null,
   "metadata": {},
   "outputs": [],
   "source": [
    "#TEST: Input markers from user\n",
    "p1_marker, p2_marker = player_input() \n",
    "print('Player 1: ' + p1_marker + '\\nPlayer 2: ' + p2_marker)"
   ]
  },
  {
   "cell_type": "code",
   "execution_count": null,
   "metadata": {},
   "outputs": [],
   "source": [
    "def place_marker(board, marker, position):\n",
    "    '''\n",
    "    INPUT: Board, player marker, board position\n",
    "    OUTPUT: Marker on board position\n",
    "    '''\n",
    "    board[position]= marker"
   ]
  },
  {
   "cell_type": "code",
   "execution_count": null,
   "metadata": {},
   "outputs": [],
   "source": [
    "#TEST: Run place_marker() and display board\n",
    "place_marker(test_board,'$',8)\n",
    "display_board(test_board)"
   ]
  },
  {
   "cell_type": "code",
   "execution_count": null,
   "metadata": {},
   "outputs": [],
   "source": [
    "def win_check(board, mark):\n",
    "    '''\n",
    "    INPUT: Board, player marker\n",
    "    OUTPUT: If mark played has won\n",
    "    '''\n",
    "    return(\n",
    "    #Check rows\n",
    "    (board[1] == board[2] == board[3] == mark)\n",
    "    or (board[4] == board[5] == board[6] == mark)\n",
    "    or (board[7] == board[8] == board[9] == mark)\n",
    "    \n",
    "    #Check columns\n",
    "    or (board[1] == board[4] == board[7] == mark)\n",
    "    or (board[2] == board[5] == board[8] == mark)\n",
    "    or (board[3] == board[6] == board[9] == mark)\n",
    "    \n",
    "    #Check diagonals\n",
    "    or (board[1] == board[5] == board[9] == mark)\n",
    "    or (board[3] == board[5] == board[7] == mark))"
   ]
  },
  {
   "cell_type": "code",
   "execution_count": null,
   "metadata": {},
   "outputs": [],
   "source": [
    "#TEST: Run win_check on test board\n",
    "win_check(test_board,'X')"
   ]
  },
  {
   "cell_type": "code",
   "execution_count": null,
   "metadata": {},
   "outputs": [],
   "source": [
    "import random\n",
    "\n",
    "def choose_first():\n",
    "    '''\n",
    "    OUTPUT: Randomly select first player\n",
    "    '''\n",
    "    flip = random.randint(0,1)\n",
    "    \n",
    "    if flip == 0:\n",
    "        return 'Player 1'\n",
    "    else:\n",
    "        return 'Player 2'"
   ]
  },
  {
   "cell_type": "code",
   "execution_count": null,
   "metadata": {},
   "outputs": [],
   "source": [
    "def space_check(board, position):\n",
    "    '''\n",
    "    INPUT: Board, board position\n",
    "    OUTPUT: If board position is empty\n",
    "    '''\n",
    "    return board[position] == ' '"
   ]
  },
  {
   "cell_type": "code",
   "execution_count": null,
   "metadata": {},
   "outputs": [],
   "source": [
    "def full_board_check(board):\n",
    "    '''\n",
    "    INPUT: Board\n",
    "    OUTPUT: If board positions are all full\n",
    "    '''\n",
    "    for i in range(1,10):\n",
    "        if space_check(board,i):\n",
    "            return False\n",
    "    return True"
   ]
  },
  {
   "cell_type": "code",
   "execution_count": null,
   "metadata": {},
   "outputs": [],
   "source": [
    "def player_choice(board):\n",
    "    '''\n",
    "    INPUT: Board\n",
    "    OUTPUT: Player's board position choice\n",
    "    '''\n",
    "    position = 0\n",
    "    \n",
    "    while position not in range(1,10) or not space_check(board,position):\n",
    "        position = int(input('Choose a position (1-9): '))\n",
    "    \n",
    "    return position"
   ]
  },
  {
   "cell_type": "code",
   "execution_count": null,
   "metadata": {},
   "outputs": [],
   "source": [
    "def replay():\n",
    "    '''\n",
    "    INPUT: If user wants to play again\n",
    "    OUTPUT: Player's choice\n",
    "    '''\n",
    "    choice = input('Play again? Enter Y or N: ')\n",
    "    \n",
    "    return choice == 'Y'"
   ]
  },
  {
   "cell_type": "markdown",
   "metadata": {},
   "source": [
    "Run the Game"
   ]
  },
  {
   "cell_type": "code",
   "execution_count": null,
   "metadata": {},
   "outputs": [],
   "source": [
    "#While loop to run the game\n",
    "#Break from loop using replay()\n",
    "\n",
    "print(\"Welcome to Nate's Tic Tac Toe!\")\n",
    "\n",
    "while True:\n",
    "    \n",
    "    #Setup\n",
    "    gameboard = [' ']*10\n",
    "    p1marker, p2marker = player_input()\n",
    "    \n",
    "    turn = choose_first()\n",
    "    print(turn + ' will go first')\n",
    "    \n",
    "    play = input('Ready to play? (Y or N)')\n",
    "    if play == 'Y':\n",
    "        game = True\n",
    "    else:\n",
    "        game = False    \n",
    "    \n",
    "    #Gameplay\n",
    "    while game:\n",
    "        #Player 1's turn\n",
    "        if turn == 'Player 1':\n",
    "            display_board(gameboard)\n",
    "            pos = player_choice(gameboard)\n",
    "            place_marker(gameboard,p1marker,pos)\n",
    "            \n",
    "            #Check if won\n",
    "            if win_check(gameboard,p1marker):\n",
    "                display_board(gameboard)\n",
    "                print('Player 1 wins!')\n",
    "                game = False\n",
    "            else:\n",
    "                if full_board_check(gameboard):\n",
    "                    display_board(gameboard)\n",
    "                    print('Tie!')\n",
    "                    game = False\n",
    "                else:\n",
    "                    turn = 'Player 2'\n",
    "        #Player 2's turn\n",
    "        else:\n",
    "            display_board(gameboard)\n",
    "            pos = player_choice(gameboard)\n",
    "            place_marker(gameboard,p2marker,pos)\n",
    "            \n",
    "            #Check if won\n",
    "            if win_check(gameboard,p2marker):\n",
    "                display_board(gameboard)\n",
    "                print('Player 2 wins!')\n",
    "                game = False\n",
    "            else:\n",
    "                if full_board_check(gameboard):\n",
    "                    display_board(gameboard)\n",
    "                    print('Tie!')\n",
    "                    game = False\n",
    "                else:\n",
    "                    turn = 'Player 1'\n",
    "    \n",
    "    if not replay():\n",
    "        break"
   ]
  },
  {
   "cell_type": "code",
   "execution_count": null,
   "metadata": {},
   "outputs": [],
   "source": []
  }
 ],
 "metadata": {
  "kernelspec": {
   "display_name": "Python 3",
   "language": "python",
   "name": "python3"
  },
  "language_info": {
   "codemirror_mode": {
    "name": "ipython",
    "version": 3
   },
   "file_extension": ".py",
   "mimetype": "text/x-python",
   "name": "python",
   "nbconvert_exporter": "python",
   "pygments_lexer": "ipython3",
   "version": "3.7.4"
  }
 },
 "nbformat": 4,
 "nbformat_minor": 2
}
